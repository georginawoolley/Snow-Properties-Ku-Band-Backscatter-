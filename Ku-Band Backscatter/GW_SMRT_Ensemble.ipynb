{
 "cells": [
  {
   "cell_type": "code",
   "execution_count": 1,
   "id": "0e9e961c",
   "metadata": {},
   "outputs": [],
   "source": [
    "#import geopandas as gp\n",
    "import numpy as np\n",
    "import pandas as pd\n",
    "from datetime import datetime\n",
    "from scipy.optimize import least_squares\n",
    "from scipy.interpolate import interp1d\n",
    "from smrt.core.globalconstants import PERMITTIVITY_OF_AIR\n",
    "from smrt import sensor_list, make_soil, make_model, make_snowpack\n",
    "from matplotlib import pyplot as plt\n",
    "import matplotlib\n",
    "\n",
    "font = {'family' : 'sans-serif',\n",
    "        'weight' : 'bold',\n",
    "        'size'   : 22}\n",
    "\n",
    "matplotlib.rc('font', **font)\n",
    "plt.rcParams[\"axes.labelsize\"] = 22\n",
    "plt.rcParams[\"axes.labelweight\"] = 'bold'\n",
    "plt.rcParams['xtick.labelsize']=16\n",
    "plt.rcParams['ytick.labelsize']=16\n",
    "\n",
    "pd.set_option('use_inf_as_na', True)\n",
    "\n",
    "from radarfunc import to_dB\n"
   ]
  },
  {
   "cell_type": "code",
   "execution_count": 2,
   "id": "373bf9f6",
   "metadata": {},
   "outputs": [
    {
     "name": "stdout",
     "output_type": "stream",
     "text": [
      "0.75\n"
     ]
    }
   ],
   "source": [
    "soil_params = [2.7, 0.75, 0.011]\n",
    "print(soil_params[1])"
   ]
  },
  {
   "cell_type": "code",
   "execution_count": 3,
   "id": "f7db6f5d",
   "metadata": {},
   "outputs": [
    {
     "ename": "ValueError",
     "evalue": "Expected object or value",
     "output_type": "error",
     "traceback": [
      "\u001b[1;31m---------------------------------------------------------------------------\u001b[0m",
      "\u001b[1;31mValueError\u001b[0m                                Traceback (most recent call last)",
      "Input \u001b[1;32mIn [3]\u001b[0m, in \u001b[0;36m<cell line: 1>\u001b[1;34m()\u001b[0m\n\u001b[1;32m----> 1\u001b[0m background \u001b[38;5;241m=\u001b[39m \u001b[43mpd\u001b[49m\u001b[38;5;241;43m.\u001b[39;49m\u001b[43mread_json\u001b[49m\u001b[43m(\u001b[49m\u001b[38;5;124;43m'\u001b[39;49m\u001b[38;5;124;43mTVC_Arctic_Min_2022.json\u001b[39;49m\u001b[38;5;124;43m'\u001b[39;49m\u001b[43m)\u001b[49m\n\u001b[0;32m      3\u001b[0m background\n",
      "File \u001b[1;32m~\\AppData\\Local\\Programs\\Python\\Python310\\lib\\site-packages\\pandas\\util\\_decorators.py:207\u001b[0m, in \u001b[0;36mdeprecate_kwarg.<locals>._deprecate_kwarg.<locals>.wrapper\u001b[1;34m(*args, **kwargs)\u001b[0m\n\u001b[0;32m    205\u001b[0m     \u001b[38;5;28;01melse\u001b[39;00m:\n\u001b[0;32m    206\u001b[0m         kwargs[new_arg_name] \u001b[38;5;241m=\u001b[39m new_arg_value\n\u001b[1;32m--> 207\u001b[0m \u001b[38;5;28;01mreturn\u001b[39;00m func(\u001b[38;5;241m*\u001b[39margs, \u001b[38;5;241m*\u001b[39m\u001b[38;5;241m*\u001b[39mkwargs)\n",
      "File \u001b[1;32m~\\AppData\\Local\\Programs\\Python\\Python310\\lib\\site-packages\\pandas\\util\\_decorators.py:311\u001b[0m, in \u001b[0;36mdeprecate_nonkeyword_arguments.<locals>.decorate.<locals>.wrapper\u001b[1;34m(*args, **kwargs)\u001b[0m\n\u001b[0;32m    305\u001b[0m \u001b[38;5;28;01mif\u001b[39;00m \u001b[38;5;28mlen\u001b[39m(args) \u001b[38;5;241m>\u001b[39m num_allow_args:\n\u001b[0;32m    306\u001b[0m     warnings\u001b[38;5;241m.\u001b[39mwarn(\n\u001b[0;32m    307\u001b[0m         msg\u001b[38;5;241m.\u001b[39mformat(arguments\u001b[38;5;241m=\u001b[39marguments),\n\u001b[0;32m    308\u001b[0m         \u001b[38;5;167;01mFutureWarning\u001b[39;00m,\n\u001b[0;32m    309\u001b[0m         stacklevel\u001b[38;5;241m=\u001b[39mstacklevel,\n\u001b[0;32m    310\u001b[0m     )\n\u001b[1;32m--> 311\u001b[0m \u001b[38;5;28;01mreturn\u001b[39;00m func(\u001b[38;5;241m*\u001b[39margs, \u001b[38;5;241m*\u001b[39m\u001b[38;5;241m*\u001b[39mkwargs)\n",
      "File \u001b[1;32m~\\AppData\\Local\\Programs\\Python\\Python310\\lib\\site-packages\\pandas\\io\\json\\_json.py:612\u001b[0m, in \u001b[0;36mread_json\u001b[1;34m(path_or_buf, orient, typ, dtype, convert_axes, convert_dates, keep_default_dates, numpy, precise_float, date_unit, encoding, encoding_errors, lines, chunksize, compression, nrows, storage_options)\u001b[0m\n\u001b[0;32m    609\u001b[0m     \u001b[38;5;28;01mreturn\u001b[39;00m json_reader\n\u001b[0;32m    611\u001b[0m \u001b[38;5;28;01mwith\u001b[39;00m json_reader:\n\u001b[1;32m--> 612\u001b[0m     \u001b[38;5;28;01mreturn\u001b[39;00m \u001b[43mjson_reader\u001b[49m\u001b[38;5;241;43m.\u001b[39;49m\u001b[43mread\u001b[49m\u001b[43m(\u001b[49m\u001b[43m)\u001b[49m\n",
      "File \u001b[1;32m~\\AppData\\Local\\Programs\\Python\\Python310\\lib\\site-packages\\pandas\\io\\json\\_json.py:746\u001b[0m, in \u001b[0;36mJsonReader.read\u001b[1;34m(self)\u001b[0m\n\u001b[0;32m    744\u001b[0m         obj \u001b[38;5;241m=\u001b[39m \u001b[38;5;28mself\u001b[39m\u001b[38;5;241m.\u001b[39m_get_object_parser(\u001b[38;5;28mself\u001b[39m\u001b[38;5;241m.\u001b[39m_combine_lines(data_lines))\n\u001b[0;32m    745\u001b[0m \u001b[38;5;28;01melse\u001b[39;00m:\n\u001b[1;32m--> 746\u001b[0m     obj \u001b[38;5;241m=\u001b[39m \u001b[38;5;28;43mself\u001b[39;49m\u001b[38;5;241;43m.\u001b[39;49m\u001b[43m_get_object_parser\u001b[49m\u001b[43m(\u001b[49m\u001b[38;5;28;43mself\u001b[39;49m\u001b[38;5;241;43m.\u001b[39;49m\u001b[43mdata\u001b[49m\u001b[43m)\u001b[49m\n\u001b[0;32m    747\u001b[0m \u001b[38;5;28mself\u001b[39m\u001b[38;5;241m.\u001b[39mclose()\n\u001b[0;32m    748\u001b[0m \u001b[38;5;28;01mreturn\u001b[39;00m obj\n",
      "File \u001b[1;32m~\\AppData\\Local\\Programs\\Python\\Python310\\lib\\site-packages\\pandas\\io\\json\\_json.py:768\u001b[0m, in \u001b[0;36mJsonReader._get_object_parser\u001b[1;34m(self, json)\u001b[0m\n\u001b[0;32m    766\u001b[0m obj \u001b[38;5;241m=\u001b[39m \u001b[38;5;28;01mNone\u001b[39;00m\n\u001b[0;32m    767\u001b[0m \u001b[38;5;28;01mif\u001b[39;00m typ \u001b[38;5;241m==\u001b[39m \u001b[38;5;124m\"\u001b[39m\u001b[38;5;124mframe\u001b[39m\u001b[38;5;124m\"\u001b[39m:\n\u001b[1;32m--> 768\u001b[0m     obj \u001b[38;5;241m=\u001b[39m \u001b[43mFrameParser\u001b[49m\u001b[43m(\u001b[49m\u001b[43mjson\u001b[49m\u001b[43m,\u001b[49m\u001b[43m \u001b[49m\u001b[38;5;241;43m*\u001b[39;49m\u001b[38;5;241;43m*\u001b[39;49m\u001b[43mkwargs\u001b[49m\u001b[43m)\u001b[49m\u001b[38;5;241;43m.\u001b[39;49m\u001b[43mparse\u001b[49m\u001b[43m(\u001b[49m\u001b[43m)\u001b[49m\n\u001b[0;32m    770\u001b[0m \u001b[38;5;28;01mif\u001b[39;00m typ \u001b[38;5;241m==\u001b[39m \u001b[38;5;124m\"\u001b[39m\u001b[38;5;124mseries\u001b[39m\u001b[38;5;124m\"\u001b[39m \u001b[38;5;129;01mor\u001b[39;00m obj \u001b[38;5;129;01mis\u001b[39;00m \u001b[38;5;28;01mNone\u001b[39;00m:\n\u001b[0;32m    771\u001b[0m     \u001b[38;5;28;01mif\u001b[39;00m \u001b[38;5;129;01mnot\u001b[39;00m \u001b[38;5;28misinstance\u001b[39m(dtype, \u001b[38;5;28mbool\u001b[39m):\n",
      "File \u001b[1;32m~\\AppData\\Local\\Programs\\Python\\Python310\\lib\\site-packages\\pandas\\io\\json\\_json.py:880\u001b[0m, in \u001b[0;36mParser.parse\u001b[1;34m(self)\u001b[0m\n\u001b[0;32m    878\u001b[0m     \u001b[38;5;28mself\u001b[39m\u001b[38;5;241m.\u001b[39m_parse_numpy()\n\u001b[0;32m    879\u001b[0m \u001b[38;5;28;01melse\u001b[39;00m:\n\u001b[1;32m--> 880\u001b[0m     \u001b[38;5;28;43mself\u001b[39;49m\u001b[38;5;241;43m.\u001b[39;49m\u001b[43m_parse_no_numpy\u001b[49m\u001b[43m(\u001b[49m\u001b[43m)\u001b[49m\n\u001b[0;32m    882\u001b[0m \u001b[38;5;28;01mif\u001b[39;00m \u001b[38;5;28mself\u001b[39m\u001b[38;5;241m.\u001b[39mobj \u001b[38;5;129;01mis\u001b[39;00m \u001b[38;5;28;01mNone\u001b[39;00m:\n\u001b[0;32m    883\u001b[0m     \u001b[38;5;28;01mreturn\u001b[39;00m \u001b[38;5;28;01mNone\u001b[39;00m\n",
      "File \u001b[1;32m~\\AppData\\Local\\Programs\\Python\\Python310\\lib\\site-packages\\pandas\\io\\json\\_json.py:1133\u001b[0m, in \u001b[0;36mFrameParser._parse_no_numpy\u001b[1;34m(self)\u001b[0m\n\u001b[0;32m   1129\u001b[0m orient \u001b[38;5;241m=\u001b[39m \u001b[38;5;28mself\u001b[39m\u001b[38;5;241m.\u001b[39morient\n\u001b[0;32m   1131\u001b[0m \u001b[38;5;28;01mif\u001b[39;00m orient \u001b[38;5;241m==\u001b[39m \u001b[38;5;124m\"\u001b[39m\u001b[38;5;124mcolumns\u001b[39m\u001b[38;5;124m\"\u001b[39m:\n\u001b[0;32m   1132\u001b[0m     \u001b[38;5;28mself\u001b[39m\u001b[38;5;241m.\u001b[39mobj \u001b[38;5;241m=\u001b[39m DataFrame(\n\u001b[1;32m-> 1133\u001b[0m         \u001b[43mloads\u001b[49m\u001b[43m(\u001b[49m\u001b[43mjson\u001b[49m\u001b[43m,\u001b[49m\u001b[43m \u001b[49m\u001b[43mprecise_float\u001b[49m\u001b[38;5;241;43m=\u001b[39;49m\u001b[38;5;28;43mself\u001b[39;49m\u001b[38;5;241;43m.\u001b[39;49m\u001b[43mprecise_float\u001b[49m\u001b[43m)\u001b[49m, dtype\u001b[38;5;241m=\u001b[39m\u001b[38;5;28;01mNone\u001b[39;00m\n\u001b[0;32m   1134\u001b[0m     )\n\u001b[0;32m   1135\u001b[0m \u001b[38;5;28;01melif\u001b[39;00m orient \u001b[38;5;241m==\u001b[39m \u001b[38;5;124m\"\u001b[39m\u001b[38;5;124msplit\u001b[39m\u001b[38;5;124m\"\u001b[39m:\n\u001b[0;32m   1136\u001b[0m     decoded \u001b[38;5;241m=\u001b[39m {\n\u001b[0;32m   1137\u001b[0m         \u001b[38;5;28mstr\u001b[39m(k): v\n\u001b[0;32m   1138\u001b[0m         \u001b[38;5;28;01mfor\u001b[39;00m k, v \u001b[38;5;129;01min\u001b[39;00m loads(json, precise_float\u001b[38;5;241m=\u001b[39m\u001b[38;5;28mself\u001b[39m\u001b[38;5;241m.\u001b[39mprecise_float)\u001b[38;5;241m.\u001b[39mitems()\n\u001b[0;32m   1139\u001b[0m     }\n",
      "\u001b[1;31mValueError\u001b[0m: Expected object or value"
     ]
    }
   ],
   "source": [
    "background = pd.read_json('TVC_Arctic_Min_2022.json')\n",
    "\n",
    "background"
   ]
  },
  {
   "cell_type": "code",
   "execution_count": 82,
   "id": "b1acf6f2",
   "metadata": {},
   "outputs": [],
   "source": [
    "def smrtSim(f, theta, thickness, density, temperature, p_ex, kappa_ws, kappa_dh, grain_type, soil_params, bands=['vv']):\n",
    "    \n",
    "    '''\n",
    "    f: frequency (in Hz)\n",
    "    theta: incidence angle (in degrees)\n",
    "    thickness: list of snow layer thicknesses (in m)\n",
    "    density: list of snow layer densities (in kg/m3)\n",
    "    temperature: list of snow layer temperatures (in K)\n",
    "    p_ex: list of snow layer exponential correlation lengths (in m)\n",
    "    kappa_ws: polydispersity for the rounded grain snow type (Arctic wind slab)\n",
    "    kapp_dh: polydispersity for the depth hoar snow grain type\n",
    "    grain_type: classified snow layer grain types (R: rounded grains; H: depth hoar)\n",
    "    soil_params: list of background soil properties\n",
    "        epsr: real part of the soil permittivity\n",
    "        epsi: imaginary part of the soil permittivity\n",
    "        mss: mean square slope soil roughness parameter\n",
    "    bands: polarizations\n",
    "    '''\n",
    "    \n",
    "    #Modeling theories to use in SMRT\n",
    "    # model = make_model(\"iba\", \"dort\", rtsolver_options = {'m_max': 2, 'error_handling':'nan', 'phase_normalization' : False})\n",
    "    \n",
    "    model = make_model(\"iba\", \"dort\", rtsolver_options = {'error_handling':'nan', 'phase_normalization' : True, \n",
    "                                                         'diagonalization_method':'shur_forcedtriu'})\n",
    "    \n",
    "    #Initializing the modeled sigma-nought values\n",
    "    sim_sig0 = {}\n",
    "    \n",
    "    #Creating the substrate under the snowpack\n",
    "    '''\n",
    "    Roughness model: Geometrical Optics Backscatter model\n",
    "    Permittivity model: static complexe permittivity values to optimize\n",
    "    Mean_square_slope: Mean Square Slope calculated previously (mss, no units)\n",
    "    Temperature: Soil temperature (in K)\n",
    "    '''\n",
    "    sub = make_soil('geometrical_optics', \n",
    "                    permittivity_model = complex(soil_params[0],soil_params[1]), \n",
    "                    mean_square_slope=soil_params[2], \n",
    "                    temperature = 253.7)\n",
    "    \n",
    "    # kappa = np.array(1 * len(grain_type))\n",
    "    \n",
    "    kappa = np.array([kappa_ws] * len(grain_type))\n",
    "    kappa[np.where(grain_type=='H')[0]] = kappa_dh\n",
    "    \n",
    "    #Creating the snowpack to simulate with the substrate\n",
    "    sp = make_snowpack(thickness=thickness, \n",
    "                       microstructure_model='exponential',\n",
    "                       density= density,\n",
    "                       temperature=temperature,\n",
    "                       ice_permittivity_model=None,\n",
    "                       background_permittivity_model=PERMITTIVITY_OF_AIR,\n",
    "                       liquid_water=0, salinity=0, \n",
    "                       corr_length = kappa * p_ex,\n",
    "                       substrate = sub)\n",
    "\n",
    "    #Initializing the outputs dataframe\n",
    "    sim_sig0=pd.DataFrame({'theta': [], 'sig0': []})\n",
    "\n",
    "    sensor  = sensor_list.active(f, theta)\n",
    "\n",
    "    sigma_nought = model.run(sensor, sp, parallel_computation=True)\n",
    "    \n",
    "    for tet in theta:\n",
    "    \n",
    "        for band in bands:\n",
    "\n",
    "            sim_sig0 = pd.concat([sim_sig0,pd.DataFrame({'theta': [np.array(tet)], \n",
    "                                                         'pol':[band],\n",
    "                                                         'sig0': [sigma_nought.sigma_as_dataframe().loc[\n",
    "                                                                  tet,band[0].upper(),band[1].upper()].sigma],\n",
    "                                                         'other_data':[sigma_nought.other_data]})], \n",
    "                                 ignore_index=True)\n",
    "\n",
    "    return sim_sig0"
   ]
  },
  {
   "cell_type": "code",
   "execution_count": 83,
   "id": "a968efad",
   "metadata": {},
   "outputs": [
    {
     "name": "stdout",
     "output_type": "stream",
     "text": [
      "0\n",
      "1\n"
     ]
    }
   ],
   "source": [
    "sim_sig0={}\n",
    "\n",
    "for i in range(2):\n",
    "    \n",
    "    sim_sig0[i]={}\n",
    "\n",
    "    sim_sig0[i] = smrtSim(13.25e9, [40], \n",
    "                                  np.array(background['thickness'][i]), \n",
    "                                  np.array(background['density'][i]), \n",
    "                                  np.array(background['temperature'][i]), \n",
    "                                  np.array(background['p_ex'][i]),\n",
    "                                  0.75,1.2,\n",
    "                                  np.array(background['grain_type'][i]),\n",
    "                                  soil_params)\n",
    "    print(i)\n"
   ]
  },
  {
   "cell_type": "code",
   "execution_count": 84,
   "id": "ce8e2fdd",
   "metadata": {},
   "outputs": [
    {
     "name": "stdout",
     "output_type": "stream",
     "text": [
      "{0: 0   -5.628953\n",
      "Name: sig0, dtype: float64, 1: 0   -4.738867\n",
      "Name: sig0, dtype: float64}\n"
     ]
    }
   ],
   "source": [
    "# Create an empty dictionary to store the Arctic SVS2-Crocus dB output\n",
    "dB_output_Arctic = {}\n",
    "\n",
    "# Loop through the rows in sim_sig0\n",
    "for b in range(len(sim_sig0)):\n",
    "    dB_output_Arctic[b] = to_dB(sim_sig0[b]['sig0'])\n",
    "\n",
    "# Print the dB_output dictionary to verify the changes\n",
    "print(dB_output_Arctic)"
   ]
  },
  {
   "cell_type": "code",
   "execution_count": 61,
   "id": "b8f6c3a0",
   "metadata": {},
   "outputs": [
    {
     "name": "stdout",
     "output_type": "stream",
     "text": [
      "{0: 0   -5.946862\n",
      "Name: sig0, dtype: float64, 1: 0   -6.350994\n",
      "Name: sig0, dtype: float64, 2: 0   -6.972174\n",
      "Name: sig0, dtype: float64, 3: 0   -5.843008\n",
      "Name: sig0, dtype: float64, 4: 0   -6.885708\n",
      "Name: sig0, dtype: float64, 5: 0   -5.756196\n",
      "Name: sig0, dtype: float64, 6: 0   -5.338105\n",
      "Name: sig0, dtype: float64, 7: 0   -6.188963\n",
      "Name: sig0, dtype: float64, 8: 0   -6.737472\n",
      "Name: sig0, dtype: float64, 9: 0   -5.618316\n",
      "Name: sig0, dtype: float64, 10: 0   -7.096269\n",
      "Name: sig0, dtype: float64, 11: 0   -5.457205\n",
      "Name: sig0, dtype: float64, 12: 0   -6.118293\n",
      "Name: sig0, dtype: float64, 13: 0   -5.059742\n",
      "Name: sig0, dtype: float64, 14: 0   -4.814962\n",
      "Name: sig0, dtype: float64, 15: 0   -5.353105\n",
      "Name: sig0, dtype: float64, 16: 0   -6.458998\n",
      "Name: sig0, dtype: float64, 17: 0   -5.879387\n",
      "Name: sig0, dtype: float64, 18: 0   -5.616926\n",
      "Name: sig0, dtype: float64, 19: 0   -6.337872\n",
      "Name: sig0, dtype: float64, 20: 0   -5.072998\n",
      "Name: sig0, dtype: float64, 21: 0   -6.821397\n",
      "Name: sig0, dtype: float64, 22: 0   -5.298253\n",
      "Name: sig0, dtype: float64, 23: 0   -7.162023\n",
      "Name: sig0, dtype: float64, 24: 0   -5.853375\n",
      "Name: sig0, dtype: float64, 25: 0   -5.996093\n",
      "Name: sig0, dtype: float64, 26: 0   -5.523659\n",
      "Name: sig0, dtype: float64, 27: 0   -5.847367\n",
      "Name: sig0, dtype: float64, 28: 0   -5.130836\n",
      "Name: sig0, dtype: float64, 29: 0   -6.878418\n",
      "Name: sig0, dtype: float64}\n"
     ]
    }
   ],
   "source": [
    "# Create an empty dictionary to store the Default SVS2-Crocus dB output\n",
    "dB_output_Default = {}\n",
    "\n",
    "# Loop through the rows in sim_sig0\n",
    "for b in range(len(sim_sig0)):\n",
    "    dB_output_Default[b] = to_dB(sim_sig0[b]['sig0'])\n",
    "\n",
    "# Print the dB_output dictionary to verify the changes\n",
    "print(dB_output_Default)"
   ]
  },
  {
   "cell_type": "code",
   "execution_count": 22,
   "id": "3762e865",
   "metadata": {},
   "outputs": [
    {
     "name": "stdout",
     "output_type": "stream",
     "text": [
      "{0: 0   -9.791174\n",
      "Name: sig0, dtype: float64, 1: 0   -10.359401\n",
      "Name: sig0, dtype: float64, 2: 0   -10.573806\n",
      "Name: sig0, dtype: float64}\n"
     ]
    }
   ],
   "source": [
    "# Create an empty dictionary to store the Pit dB output\n",
    "dB_output_Pit = {}\n",
    "\n",
    "# Loop through the rows in sim_sig0\n",
    "for b in range(len(sim_sig0)):\n",
    "    dB_output_Pit[b] = to_dB(sim_sig0[b]['sig0'])\n",
    "\n",
    "# Print the dB_output dictionary to verify the changes\n",
    "print(dB_output_Pit)"
   ]
  },
  {
   "cell_type": "code",
   "execution_count": 66,
   "id": "b18ed880",
   "metadata": {},
   "outputs": [],
   "source": [
    "data = {'Arctic' : [dB_output_Arctic], 'Default' : [dB_output_Default]}"
   ]
  },
  {
   "cell_type": "code",
   "execution_count": 67,
   "id": "3a666b76",
   "metadata": {},
   "outputs": [],
   "source": [
    "#df_pit = pd.DataFrame(dB_output_Pit)\n",
    "df_Arctic = pd.DataFrame(dB_output_Arctic)\n",
    "df_Default = pd.DataFrame(dB_output_Default)\n",
    "df_combined = pd.concat([df_Arctic,df_Default], ignore_index = True)\n",
    "df_flipped = df_combined.transpose()\n",
    "df_flipped.columns = ['Arctic', 'Default']"
   ]
  },
  {
   "cell_type": "code",
   "execution_count": 68,
   "id": "accbd8d2",
   "metadata": {},
   "outputs": [
    {
     "name": "stdout",
     "output_type": "stream",
     "text": [
      "      Arctic   Default\n",
      "0  -4.114165 -5.946862\n",
      "1  -3.691319 -6.350994\n",
      "2  -4.302779 -6.972174\n",
      "3  -3.912867 -5.843008\n",
      "4  -4.328355 -6.885708\n",
      "5  -4.044374 -5.756196\n",
      "6  -4.978822 -5.338105\n",
      "7  -3.543484 -6.188963\n",
      "8  -3.044157 -6.737472\n",
      "9  -3.799554 -5.618316\n",
      "10 -3.753096 -7.096269\n",
      "11 -4.096148 -5.457205\n",
      "12 -3.832138 -6.118293\n",
      "13 -3.129391 -5.059742\n",
      "14 -3.272850 -4.814962\n",
      "15 -2.798702 -5.353105\n",
      "16 -3.392685 -6.458998\n",
      "17 -3.093410 -5.879387\n",
      "18 -4.199101 -5.616926\n",
      "19 -3.472910 -6.337872\n",
      "20 -2.957259 -5.072998\n",
      "21 -3.268860 -6.821397\n",
      "22 -2.977067 -5.298253\n",
      "23 -4.825411 -7.162023\n",
      "24 -2.812081 -5.853375\n",
      "25 -4.579051 -5.996093\n",
      "26 -3.673281 -5.523659\n",
      "27 -3.236963 -5.847367\n",
      "28 -3.413143 -5.130836\n",
      "29 -4.320582 -6.878418\n"
     ]
    }
   ],
   "source": [
    "print(df_flipped)"
   ]
  },
  {
   "cell_type": "code",
   "execution_count": 69,
   "id": "c3037396",
   "metadata": {},
   "outputs": [],
   "source": [
    "df_flipped.to_csv('Bias_Correct_Backscatter_2022_2.csv', sep=';', index=False)"
   ]
  },
  {
   "cell_type": "code",
   "execution_count": null,
   "id": "69120923",
   "metadata": {},
   "outputs": [],
   "source": []
  }
 ],
 "metadata": {
  "kernelspec": {
   "display_name": "Python 3 (ipykernel)",
   "language": "python",
   "name": "python3"
  },
  "language_info": {
   "codemirror_mode": {
    "name": "ipython",
    "version": 3
   },
   "file_extension": ".py",
   "mimetype": "text/x-python",
   "name": "python",
   "nbconvert_exporter": "python",
   "pygments_lexer": "ipython3",
   "version": "3.10.4"
  }
 },
 "nbformat": 4,
 "nbformat_minor": 5
}
